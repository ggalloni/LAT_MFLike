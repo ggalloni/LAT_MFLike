{
 "cells": [
  {
   "cell_type": "markdown",
   "id": "d561f7c6-434f-46d0-bafc-07f5705b39e0",
   "metadata": {
    "slideshow": {
     "slide_type": ""
    },
    "tags": []
   },
   "source": [
    "# Loading & getting `MFLike` likelihood from `cobaya`"
   ]
  },
  {
   "cell_type": "markdown",
   "id": "5ab80bfe-f276-4617-906d-1794fd09c932",
   "metadata": {
    "slideshow": {
     "slide_type": ""
    },
    "tags": []
   },
   "source": [
    "In this first tutorial, we will see how to instantiate `mflike` from `cobaya` interface and how we can retrieve the likelihood. This notebook is currently using the following modules: "
   ]
  },
  {
   "cell_type": "code",
   "execution_count": null,
   "id": "69c60337-7626-48a3-9769-4a6c5ed73d8b",
   "metadata": {
    "slideshow": {
     "slide_type": ""
    },
    "tags": [
     "hide-input"
    ]
   },
   "outputs": [],
   "source": [
    "import camb\n",
    "import cobaya\n",
    "import matplotlib as mpl\n",
    "import numpy as np\n",
    "\n",
    "print(\"     Numpy :\", np.__version__)\n",
    "print(\"Matplotlib :\", mpl.__version__)\n",
    "print(\"      CAMB :\", camb.__version__)\n",
    "print(\"    Cobaya :\", cobaya.__version__)"
   ]
  },
  {
   "cell_type": "markdown",
   "id": "075b1afa-7f22-485e-9134-df7f3688e559",
   "metadata": {
    "slideshow": {
     "slide_type": ""
    },
    "tags": []
   },
   "source": [
    "## Installing `MFLike` likelihood data"
   ]
  },
  {
   "cell_type": "markdown",
   "id": "f2e77f13-7af8-460f-995c-f905b5ce326a",
   "metadata": {
    "slideshow": {
     "slide_type": ""
    },
    "tags": []
   },
   "source": [
    "We first start by declaring the likelihood within a `dict` object. Most of the likelihood's options are set by default. Here we only set the input `sacc` file and the associated covariance file."
   ]
  },
  {
   "cell_type": "code",
   "execution_count": null,
   "id": "35d4d883-0554-4c0f-ba43-c39bbdbc0735",
   "metadata": {
    "slideshow": {
     "slide_type": ""
    },
    "tags": []
   },
   "outputs": [],
   "source": [
    "mflike_input_file = dict(\n",
    "    input_file=\"LAT_simu_sacc_00044.fits\", cov_Bbl_file=\"data_sacc_w_covar_and_Bbl.fits\"\n",
    ")\n",
    "mflike_config = {\"mflike.TTTEEE\": mflike_input_file}"
   ]
  },
  {
   "cell_type": "markdown",
   "id": "d51c0d79-81e0-4eac-b5ed-31ceafa32a03",
   "metadata": {
    "slideshow": {
     "slide_type": ""
    },
    "tags": []
   },
   "source": [
    "These files do not come with the `mflike` likelihood and we need to download and to install data needed by `mflike`. Here we will do it programatically in such a way we can use this notebook without any prerequisites. Code and data will be stored in the `/tmp` directory for the tutorial purpose but feel free to change it to whatever location you want. By the way the next command will take some times to proceed."
   ]
  },
  {
   "cell_type": "code",
   "execution_count": null,
   "id": "a282004c-7f40-4960-b4e5-1f5272f7b2da",
   "metadata": {
    "scrolled": true,
    "slideshow": {
     "slide_type": ""
    },
    "tags": []
   },
   "outputs": [],
   "source": [
    "import os\n",
    "import tempfile\n",
    "\n",
    "from cobaya.install import install\n",
    "from cobaya.tools import resolve_packages_path\n",
    "\n",
    "custom_packages_path = None\n",
    "\n",
    "# Try to resolve global path\n",
    "if custom_packages_path is None:\n",
    "    packages_path = resolve_packages_path()\n",
    "else:\n",
    "    packages_path = custom_packages_path\n",
    "\n",
    "install(\n",
    "    {\"likelihood\": mflike_config},\n",
    "    path=packages_path,\n",
    "    no_set_global=True,\n",
    "    skip_global=True,\n",
    ")"
   ]
  },
  {
   "cell_type": "markdown",
   "id": "decb76dc-e372-4043-8dcc-0f14797db66b",
   "metadata": {},
   "source": [
    "## Loading `MFLike` *via* `cobaya`"
   ]
  },
  {
   "cell_type": "markdown",
   "id": "d5b75efe-5856-44fe-afd0-01c2957c906b",
   "metadata": {
    "slideshow": {
     "slide_type": ""
    },
    "tags": []
   },
   "source": [
    "Given a successful installation of the data, we then need to set the default values of CMB, foreground and nuisance parameters."
   ]
  },
  {
   "cell_type": "code",
   "execution_count": null,
   "id": "7e56816c-4ff0-42dc-87b9-d4ba860f0f68",
   "metadata": {
    "slideshow": {
     "slide_type": ""
    },
    "tags": []
   },
   "outputs": [],
   "source": [
    "from common import cosmo_params, fg_params, nuisance_params"
   ]
  },
  {
   "cell_type": "markdown",
   "id": "009299c6-edfd-4971-9a91-f3ce5b234f5c",
   "metadata": {
    "slideshow": {
     "slide_type": ""
    },
    "tags": []
   },
   "source": [
    "We finally put everything into a dictionary to push it into `cobaya` configuration system. Here for the purpose of this tutorial, we use `camb` as Boltzmann solver with minimal settings. Another configuration `high_accuracy_settings` is also provided and you can switch within the `info` object.  \n",
    "The likelihood also depends on the foreground model, the default model for which can also be obtained from mflike.BandpowerForeground."
   ]
  },
  {
   "cell_type": "code",
   "execution_count": null,
   "id": "a1c392f3-db2a-4a4f-aa8f-2094fa385992",
   "metadata": {
    "slideshow": {
     "slide_type": ""
    },
    "tags": []
   },
   "outputs": [],
   "source": [
    "minimal_settings = dict(lens_potential_accuracy=1)\n",
    "\n",
    "high_accuracy_settings = dict(\n",
    "    lens_potential_accuracy=8,\n",
    "    lens_margin=2050,\n",
    "    AccuracyBoost=2.0,\n",
    "    lSampleBoost=2.0,\n",
    "    lAccuracyBoost=2.0,\n",
    "    kmax=10,\n",
    "    k_per_logint=130,\n",
    "    nonlinear=True,\n",
    "    DoLateRadTruncation=False,\n",
    ")\n",
    "\n",
    "info = {\n",
    "    \"params\": cosmo_params | fg_params | nuisance_params,\n",
    "    \"likelihood\": mflike_config,\n",
    "    \"theory\": {\n",
    "        \"camb\": {\"extra_args\": minimal_settings},\n",
    "        \"mflike.BandpowerForeground\": None,\n",
    "    },\n",
    "    \"packages_path\": packages_path,\n",
    "}"
   ]
  },
  {
   "cell_type": "markdown",
   "id": "05537a7c-64c8-47f2-ac43-c032b9e395e6",
   "metadata": {
    "slideshow": {
     "slide_type": ""
    },
    "tags": []
   },
   "source": [
    "We will now get the model given the above parameters\n",
    "\n"
   ]
  },
  {
   "cell_type": "code",
   "execution_count": null,
   "id": "a2304c24-57b5-499e-8dd1-e51198db6dec",
   "metadata": {
    "slideshow": {
     "slide_type": ""
    },
    "tags": []
   },
   "outputs": [],
   "source": [
    "from cobaya.model import get_model\n",
    "\n",
    "model = get_model(info)"
   ]
  },
  {
   "cell_type": "markdown",
   "id": "18e7f49d-a89f-4aed-b907-e1599fa5567d",
   "metadata": {
    "slideshow": {
     "slide_type": ""
    },
    "tags": []
   },
   "source": [
    "To get a direct acces to the `MFLike` likelihood instance, we can retrieve it from the collection of\n",
    "likelihoods of `cobaya` given its name (so far there is only our likelihood)\n",
    "\n"
   ]
  },
  {
   "cell_type": "code",
   "execution_count": null,
   "id": "e243d3ea-59a6-45c8-b18f-314d0af4ff32",
   "metadata": {
    "slideshow": {
     "slide_type": ""
    },
    "tags": []
   },
   "outputs": [],
   "source": [
    "mflike = model.likelihood[\"mflike.TTTEEE\"]"
   ]
  },
  {
   "cell_type": "markdown",
   "id": "5ba1f7e3-ebf0-4ca4-89a5-ab7d5bf6b168",
   "metadata": {
    "slideshow": {
     "slide_type": ""
    },
    "tags": []
   },
   "source": [
    "We can now play with the different data (Bbl, inverted covariance matrix) and we can also call the different likelihood methods."
   ]
  }
 ],
 "metadata": {
  "kernelspec": {
   "display_name": "mflike",
   "language": "python",
   "name": "python3"
  },
  "language_info": {
   "codemirror_mode": {
    "name": "ipython",
    "version": 3
   },
   "file_extension": ".py",
   "mimetype": "text/x-python",
   "name": "python",
   "nbconvert_exporter": "python",
   "pygments_lexer": "ipython3",
   "version": "3.12.10"
  },
  "widgets": {
   "application/vnd.jupyter.widget-state+json": {
    "state": {},
    "version_major": 2,
    "version_minor": 0
   }
  }
 },
 "nbformat": 4,
 "nbformat_minor": 5
}
